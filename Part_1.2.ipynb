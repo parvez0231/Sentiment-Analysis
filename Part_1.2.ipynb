{
 "cells": [
  {
   "cell_type": "code",
   "execution_count": 10,
   "metadata": {},
   "outputs": [],
   "source": [
    "import pandas as pd\n",
    "import numpy as np\n",
    "import matplotlib.pyplot as plt\n",
    "import seaborn as sns"
   ]
  },
  {
   "cell_type": "code",
   "execution_count": 49,
   "metadata": {},
   "outputs": [],
   "source": [
    "df = pd.read_csv(r'C:\\Users\\hp\\Desktop\\nextround2\\browser_rankings_data.csv')"
   ]
  },
  {
   "cell_type": "code",
   "execution_count": 12,
   "metadata": {},
   "outputs": [
    {
     "data": {
      "text/html": [
       "<div>\n",
       "<style scoped>\n",
       "    .dataframe tbody tr th:only-of-type {\n",
       "        vertical-align: middle;\n",
       "    }\n",
       "\n",
       "    .dataframe tbody tr th {\n",
       "        vertical-align: top;\n",
       "    }\n",
       "\n",
       "    .dataframe thead th {\n",
       "        text-align: right;\n",
       "    }\n",
       "</style>\n",
       "<table border=\"1\" class=\"dataframe\">\n",
       "  <thead>\n",
       "    <tr style=\"text-align: right;\">\n",
       "      <th></th>\n",
       "      <th>browser_rankings</th>\n",
       "      <th>Unnamed: 1</th>\n",
       "      <th>Unnamed: 2</th>\n",
       "      <th>Unnamed: 3</th>\n",
       "      <th>Unnamed: 4</th>\n",
       "      <th>Unnamed: 5</th>\n",
       "      <th>Unnamed: 6</th>\n",
       "      <th>Unnamed: 7</th>\n",
       "      <th>Unnamed: 8</th>\n",
       "      <th>Unnamed: 9</th>\n",
       "    </tr>\n",
       "  </thead>\n",
       "  <tbody>\n",
       "    <tr>\n",
       "      <th>0</th>\n",
       "      <td>ID</td>\n",
       "      <td>Keyword</td>\n",
       "      <td>Rank</td>\n",
       "      <td>Country</td>\n",
       "      <td>Language</td>\n",
       "      <td>Date</td>\n",
       "      <td>App ID</td>\n",
       "      <td>Date of Last Description Change</td>\n",
       "      <td>Short Description</td>\n",
       "      <td>Long Description</td>\n",
       "    </tr>\n",
       "    <tr>\n",
       "      <th>1</th>\n",
       "      <td>1</td>\n",
       "      <td>browser</td>\n",
       "      <td>2</td>\n",
       "      <td>in</td>\n",
       "      <td>en</td>\n",
       "      <td>2020-12-16</td>\n",
       "      <td>net.fast.web.browser</td>\n",
       "      <td>2020-12-18</td>\n",
       "      <td>The small, fastest, secure Web Browser, best m...</td>\n",
       "      <td>One of the smallest, fastest, secure Web Brows...</td>\n",
       "    </tr>\n",
       "    <tr>\n",
       "      <th>2</th>\n",
       "      <td>2</td>\n",
       "      <td>browser</td>\n",
       "      <td>3</td>\n",
       "      <td>in</td>\n",
       "      <td>en</td>\n",
       "      <td>2020-12-16</td>\n",
       "      <td>com.android.chrome</td>\n",
       "      <td>2020-12-18</td>\n",
       "      <td>Fast, simple, and secure. Google Chrome browse...</td>\n",
       "      <td>Google Chrome is a fast, easy to use, and secu...</td>\n",
       "    </tr>\n",
       "    <tr>\n",
       "      <th>3</th>\n",
       "      <td>3</td>\n",
       "      <td>browser</td>\n",
       "      <td>4</td>\n",
       "      <td>in</td>\n",
       "      <td>en</td>\n",
       "      <td>2020-12-16</td>\n",
       "      <td>com.opera.browser</td>\n",
       "      <td>2021-02-27</td>\n",
       "      <td>Fast, safe web browser: free VPN, Ad blocker, ...</td>\n",
       "      <td>Fast, safe and private, introducing the latest...</td>\n",
       "    </tr>\n",
       "    <tr>\n",
       "      <th>4</th>\n",
       "      <td>3</td>\n",
       "      <td>browser</td>\n",
       "      <td>4</td>\n",
       "      <td>in</td>\n",
       "      <td>en</td>\n",
       "      <td>2020-12-16</td>\n",
       "      <td>com.opera.browser</td>\n",
       "      <td>2020-12-18</td>\n",
       "      <td>Fast, safe web browser: free VPN, Ad blocker, ...</td>\n",
       "      <td>Opera is a fast, safe web browser for your And...</td>\n",
       "    </tr>\n",
       "  </tbody>\n",
       "</table>\n",
       "</div>"
      ],
      "text/plain": [
       "  browser_rankings Unnamed: 1 Unnamed: 2 Unnamed: 3 Unnamed: 4  Unnamed: 5  \\\n",
       "0               ID    Keyword       Rank    Country   Language        Date   \n",
       "1                1    browser          2         in         en  2020-12-16   \n",
       "2                2    browser          3         in         en  2020-12-16   \n",
       "3                3    browser          4         in         en  2020-12-16   \n",
       "4                3    browser          4         in         en  2020-12-16   \n",
       "\n",
       "             Unnamed: 6                       Unnamed: 7  \\\n",
       "0                App ID  Date of Last Description Change   \n",
       "1  net.fast.web.browser                       2020-12-18   \n",
       "2    com.android.chrome                       2020-12-18   \n",
       "3     com.opera.browser                       2021-02-27   \n",
       "4     com.opera.browser                       2020-12-18   \n",
       "\n",
       "                                          Unnamed: 8  \\\n",
       "0                                  Short Description   \n",
       "1  The small, fastest, secure Web Browser, best m...   \n",
       "2  Fast, simple, and secure. Google Chrome browse...   \n",
       "3  Fast, safe web browser: free VPN, Ad blocker, ...   \n",
       "4  Fast, safe web browser: free VPN, Ad blocker, ...   \n",
       "\n",
       "                                          Unnamed: 9  \n",
       "0                                   Long Description  \n",
       "1  One of the smallest, fastest, secure Web Brows...  \n",
       "2  Google Chrome is a fast, easy to use, and secu...  \n",
       "3  Fast, safe and private, introducing the latest...  \n",
       "4  Opera is a fast, safe web browser for your And...  "
      ]
     },
     "execution_count": 12,
     "metadata": {},
     "output_type": "execute_result"
    }
   ],
   "source": [
    "df.head()"
   ]
  },
  {
   "cell_type": "code",
   "execution_count": 50,
   "metadata": {},
   "outputs": [],
   "source": [
    "new_header = df.iloc[0] #grab the first row for the header\n",
    "df = df[1:] #take the data less the header row\n",
    "df.columns = new_header #set the header row as the df header\n"
   ]
  },
  {
   "cell_type": "code",
   "execution_count": 14,
   "metadata": {},
   "outputs": [
    {
     "data": {
      "text/html": [
       "<div>\n",
       "<style scoped>\n",
       "    .dataframe tbody tr th:only-of-type {\n",
       "        vertical-align: middle;\n",
       "    }\n",
       "\n",
       "    .dataframe tbody tr th {\n",
       "        vertical-align: top;\n",
       "    }\n",
       "\n",
       "    .dataframe thead th {\n",
       "        text-align: right;\n",
       "    }\n",
       "</style>\n",
       "<table border=\"1\" class=\"dataframe\">\n",
       "  <thead>\n",
       "    <tr style=\"text-align: right;\">\n",
       "      <th></th>\n",
       "      <th>ID</th>\n",
       "      <th>Keyword</th>\n",
       "      <th>Rank</th>\n",
       "      <th>Country</th>\n",
       "      <th>Language</th>\n",
       "      <th>Date</th>\n",
       "      <th>App ID</th>\n",
       "      <th>Date of Last Description Change</th>\n",
       "      <th>Short Description</th>\n",
       "      <th>Long Description</th>\n",
       "    </tr>\n",
       "  </thead>\n",
       "  <tbody>\n",
       "    <tr>\n",
       "      <th>1</th>\n",
       "      <td>1</td>\n",
       "      <td>browser</td>\n",
       "      <td>2</td>\n",
       "      <td>in</td>\n",
       "      <td>en</td>\n",
       "      <td>2020-12-16</td>\n",
       "      <td>net.fast.web.browser</td>\n",
       "      <td>2020-12-18</td>\n",
       "      <td>The small, fastest, secure Web Browser, best m...</td>\n",
       "      <td>One of the smallest, fastest, secure Web Brows...</td>\n",
       "    </tr>\n",
       "    <tr>\n",
       "      <th>2</th>\n",
       "      <td>2</td>\n",
       "      <td>browser</td>\n",
       "      <td>3</td>\n",
       "      <td>in</td>\n",
       "      <td>en</td>\n",
       "      <td>2020-12-16</td>\n",
       "      <td>com.android.chrome</td>\n",
       "      <td>2020-12-18</td>\n",
       "      <td>Fast, simple, and secure. Google Chrome browse...</td>\n",
       "      <td>Google Chrome is a fast, easy to use, and secu...</td>\n",
       "    </tr>\n",
       "    <tr>\n",
       "      <th>3</th>\n",
       "      <td>3</td>\n",
       "      <td>browser</td>\n",
       "      <td>4</td>\n",
       "      <td>in</td>\n",
       "      <td>en</td>\n",
       "      <td>2020-12-16</td>\n",
       "      <td>com.opera.browser</td>\n",
       "      <td>2021-02-27</td>\n",
       "      <td>Fast, safe web browser: free VPN, Ad blocker, ...</td>\n",
       "      <td>Fast, safe and private, introducing the latest...</td>\n",
       "    </tr>\n",
       "    <tr>\n",
       "      <th>4</th>\n",
       "      <td>3</td>\n",
       "      <td>browser</td>\n",
       "      <td>4</td>\n",
       "      <td>in</td>\n",
       "      <td>en</td>\n",
       "      <td>2020-12-16</td>\n",
       "      <td>com.opera.browser</td>\n",
       "      <td>2020-12-18</td>\n",
       "      <td>Fast, safe web browser: free VPN, Ad blocker, ...</td>\n",
       "      <td>Opera is a fast, safe web browser for your And...</td>\n",
       "    </tr>\n",
       "    <tr>\n",
       "      <th>5</th>\n",
       "      <td>4</td>\n",
       "      <td>browser</td>\n",
       "      <td>1</td>\n",
       "      <td>in</td>\n",
       "      <td>en</td>\n",
       "      <td>2020-12-16</td>\n",
       "      <td>com.cloudmosa.puffinTV</td>\n",
       "      <td>2021-02-07</td>\n",
       "      <td>Puffin TV Browser - One App to Watch All Video...</td>\n",
       "      <td>Puffin TV Browser is a special edition of Puff...</td>\n",
       "    </tr>\n",
       "  </tbody>\n",
       "</table>\n",
       "</div>"
      ],
      "text/plain": [
       "0 ID  Keyword Rank Country Language        Date                  App ID  \\\n",
       "1  1  browser    2      in       en  2020-12-16    net.fast.web.browser   \n",
       "2  2  browser    3      in       en  2020-12-16      com.android.chrome   \n",
       "3  3  browser    4      in       en  2020-12-16       com.opera.browser   \n",
       "4  3  browser    4      in       en  2020-12-16       com.opera.browser   \n",
       "5  4  browser    1      in       en  2020-12-16  com.cloudmosa.puffinTV   \n",
       "\n",
       "0 Date of Last Description Change  \\\n",
       "1                      2020-12-18   \n",
       "2                      2020-12-18   \n",
       "3                      2021-02-27   \n",
       "4                      2020-12-18   \n",
       "5                      2021-02-07   \n",
       "\n",
       "0                                  Short Description  \\\n",
       "1  The small, fastest, secure Web Browser, best m...   \n",
       "2  Fast, simple, and secure. Google Chrome browse...   \n",
       "3  Fast, safe web browser: free VPN, Ad blocker, ...   \n",
       "4  Fast, safe web browser: free VPN, Ad blocker, ...   \n",
       "5  Puffin TV Browser - One App to Watch All Video...   \n",
       "\n",
       "0                                   Long Description  \n",
       "1  One of the smallest, fastest, secure Web Brows...  \n",
       "2  Google Chrome is a fast, easy to use, and secu...  \n",
       "3  Fast, safe and private, introducing the latest...  \n",
       "4  Opera is a fast, safe web browser for your And...  \n",
       "5  Puffin TV Browser is a special edition of Puff...  "
      ]
     },
     "execution_count": 14,
     "metadata": {},
     "output_type": "execute_result"
    }
   ],
   "source": [
    "df.head()"
   ]
  },
  {
   "cell_type": "code",
   "execution_count": 15,
   "metadata": {},
   "outputs": [
    {
     "data": {
      "text/plain": [
       "(3066, 10)"
      ]
     },
     "execution_count": 15,
     "metadata": {},
     "output_type": "execute_result"
    }
   ],
   "source": [
    "df.shape"
   ]
  },
  {
   "cell_type": "code",
   "execution_count": 16,
   "metadata": {},
   "outputs": [
    {
     "data": {
      "text/plain": [
       "android browser                 608\n",
       "browser                         608\n",
       "privacy browsers for android    370\n",
       "ad free browser                 370\n",
       "privacy browser                 370\n",
       "best privacy browsers           370\n",
       "fast browser                    370\n",
       "Name: Keyword, dtype: int64"
      ]
     },
     "execution_count": 16,
     "metadata": {},
     "output_type": "execute_result"
    }
   ],
   "source": [
    "df['Keyword'].value_counts()"
   ]
  },
  {
   "cell_type": "code",
   "execution_count": 17,
   "metadata": {},
   "outputs": [],
   "source": [
    "df['sd_length'] = df['Short Description'].str.len()"
   ]
  },
  {
   "cell_type": "code",
   "execution_count": 18,
   "metadata": {},
   "outputs": [],
   "source": [
    "df['ld_length'] = df['Long Description'].str.len()"
   ]
  },
  {
   "cell_type": "code",
   "execution_count": 19,
   "metadata": {},
   "outputs": [
    {
     "data": {
      "text/html": [
       "<div>\n",
       "<style scoped>\n",
       "    .dataframe tbody tr th:only-of-type {\n",
       "        vertical-align: middle;\n",
       "    }\n",
       "\n",
       "    .dataframe tbody tr th {\n",
       "        vertical-align: top;\n",
       "    }\n",
       "\n",
       "    .dataframe thead th {\n",
       "        text-align: right;\n",
       "    }\n",
       "</style>\n",
       "<table border=\"1\" class=\"dataframe\">\n",
       "  <thead>\n",
       "    <tr style=\"text-align: right;\">\n",
       "      <th></th>\n",
       "      <th>ID</th>\n",
       "      <th>Keyword</th>\n",
       "      <th>Rank</th>\n",
       "      <th>Country</th>\n",
       "      <th>Language</th>\n",
       "      <th>Date</th>\n",
       "      <th>App ID</th>\n",
       "      <th>Date of Last Description Change</th>\n",
       "      <th>Short Description</th>\n",
       "      <th>Long Description</th>\n",
       "      <th>sd_length</th>\n",
       "      <th>ld_length</th>\n",
       "    </tr>\n",
       "  </thead>\n",
       "  <tbody>\n",
       "    <tr>\n",
       "      <th>1</th>\n",
       "      <td>1</td>\n",
       "      <td>browser</td>\n",
       "      <td>2</td>\n",
       "      <td>in</td>\n",
       "      <td>en</td>\n",
       "      <td>2020-12-16</td>\n",
       "      <td>net.fast.web.browser</td>\n",
       "      <td>2020-12-18</td>\n",
       "      <td>The small, fastest, secure Web Browser, best m...</td>\n",
       "      <td>One of the smallest, fastest, secure Web Brows...</td>\n",
       "      <td>80</td>\n",
       "      <td>1255</td>\n",
       "    </tr>\n",
       "    <tr>\n",
       "      <th>2</th>\n",
       "      <td>2</td>\n",
       "      <td>browser</td>\n",
       "      <td>3</td>\n",
       "      <td>in</td>\n",
       "      <td>en</td>\n",
       "      <td>2020-12-16</td>\n",
       "      <td>com.android.chrome</td>\n",
       "      <td>2020-12-18</td>\n",
       "      <td>Fast, simple, and secure. Google Chrome browse...</td>\n",
       "      <td>Google Chrome is a fast, easy to use, and secu...</td>\n",
       "      <td>79</td>\n",
       "      <td>2751</td>\n",
       "    </tr>\n",
       "    <tr>\n",
       "      <th>3</th>\n",
       "      <td>3</td>\n",
       "      <td>browser</td>\n",
       "      <td>4</td>\n",
       "      <td>in</td>\n",
       "      <td>en</td>\n",
       "      <td>2020-12-16</td>\n",
       "      <td>com.opera.browser</td>\n",
       "      <td>2021-02-27</td>\n",
       "      <td>Fast, safe web browser: free VPN, Ad blocker, ...</td>\n",
       "      <td>Fast, safe and private, introducing the latest...</td>\n",
       "      <td>84</td>\n",
       "      <td>3054</td>\n",
       "    </tr>\n",
       "    <tr>\n",
       "      <th>4</th>\n",
       "      <td>3</td>\n",
       "      <td>browser</td>\n",
       "      <td>4</td>\n",
       "      <td>in</td>\n",
       "      <td>en</td>\n",
       "      <td>2020-12-16</td>\n",
       "      <td>com.opera.browser</td>\n",
       "      <td>2020-12-18</td>\n",
       "      <td>Fast, safe web browser: free VPN, Ad blocker, ...</td>\n",
       "      <td>Opera is a fast, safe web browser for your And...</td>\n",
       "      <td>84</td>\n",
       "      <td>3879</td>\n",
       "    </tr>\n",
       "    <tr>\n",
       "      <th>5</th>\n",
       "      <td>4</td>\n",
       "      <td>browser</td>\n",
       "      <td>1</td>\n",
       "      <td>in</td>\n",
       "      <td>en</td>\n",
       "      <td>2020-12-16</td>\n",
       "      <td>com.cloudmosa.puffinTV</td>\n",
       "      <td>2021-02-07</td>\n",
       "      <td>Puffin TV Browser - One App to Watch All Video...</td>\n",
       "      <td>Puffin TV Browser is a special edition of Puff...</td>\n",
       "      <td>58</td>\n",
       "      <td>1417</td>\n",
       "    </tr>\n",
       "  </tbody>\n",
       "</table>\n",
       "</div>"
      ],
      "text/plain": [
       "0 ID  Keyword Rank Country Language        Date                  App ID  \\\n",
       "1  1  browser    2      in       en  2020-12-16    net.fast.web.browser   \n",
       "2  2  browser    3      in       en  2020-12-16      com.android.chrome   \n",
       "3  3  browser    4      in       en  2020-12-16       com.opera.browser   \n",
       "4  3  browser    4      in       en  2020-12-16       com.opera.browser   \n",
       "5  4  browser    1      in       en  2020-12-16  com.cloudmosa.puffinTV   \n",
       "\n",
       "0 Date of Last Description Change  \\\n",
       "1                      2020-12-18   \n",
       "2                      2020-12-18   \n",
       "3                      2021-02-27   \n",
       "4                      2020-12-18   \n",
       "5                      2021-02-07   \n",
       "\n",
       "0                                  Short Description  \\\n",
       "1  The small, fastest, secure Web Browser, best m...   \n",
       "2  Fast, simple, and secure. Google Chrome browse...   \n",
       "3  Fast, safe web browser: free VPN, Ad blocker, ...   \n",
       "4  Fast, safe web browser: free VPN, Ad blocker, ...   \n",
       "5  Puffin TV Browser - One App to Watch All Video...   \n",
       "\n",
       "0                                   Long Description  sd_length  ld_length  \n",
       "1  One of the smallest, fastest, secure Web Brows...         80       1255  \n",
       "2  Google Chrome is a fast, easy to use, and secu...         79       2751  \n",
       "3  Fast, safe and private, introducing the latest...         84       3054  \n",
       "4  Opera is a fast, safe web browser for your And...         84       3879  \n",
       "5  Puffin TV Browser is a special edition of Puff...         58       1417  "
      ]
     },
     "execution_count": 19,
     "metadata": {},
     "output_type": "execute_result"
    }
   ],
   "source": [
    "df.head()"
   ]
  },
  {
   "cell_type": "code",
   "execution_count": 20,
   "metadata": {},
   "outputs": [
    {
     "name": "stdout",
     "output_type": "stream",
     "text": [
      "0         ID                       Keyword Rank Country Language        Date  \\\n",
      "104      252         best privacy browsers  NaN      in       en  2020-12-19   \n",
      "133      419               privacy browser  NaN      in       en  2020-12-21   \n",
      "1114   32507                  fast browser  NaN      in       en  2021-01-14   \n",
      "1761   63564  privacy browsers for android  NaN      in       en  2021-02-03   \n",
      "1929   71790         best privacy browsers  NaN      in       en  2021-02-07   \n",
      "1971   73877         best privacy browsers  NaN      in       en  2021-02-08   \n",
      "2013   75963         best privacy browsers  NaN      in       en  2021-02-09   \n",
      "2047   78197  privacy browsers for android  NaN      in       en  2021-02-10   \n",
      "2052   78201         best privacy browsers  NaN      in       en  2021-02-10   \n",
      "2137   82284         best privacy browsers  NaN      in       en  2021-02-12   \n",
      "2177   84328         best privacy browsers  NaN      in       en  2021-02-13   \n",
      "2216   86461         best privacy browsers  NaN      in       en  2021-02-14   \n",
      "2254   88542  privacy browsers for android  NaN      in       en  2021-02-15   \n",
      "2259   88546         best privacy browsers  NaN      in       en  2021-02-15   \n",
      "2295   90680  privacy browsers for android  NaN      in       en  2021-02-16   \n",
      "2828  119048  privacy browsers for android  NaN      in       en  2021-03-01   \n",
      "\n",
      "0                  App ID Date of Last Description Change  \\\n",
      "104   com.vivaldi.browser                      2020-12-18   \n",
      "133   com.vivaldi.browser                      2020-12-18   \n",
      "1114  com.vivaldi.browser                      2020-12-18   \n",
      "1761  com.vivaldi.browser                      2020-12-18   \n",
      "1929  com.vivaldi.browser                      2020-12-18   \n",
      "1971  com.vivaldi.browser                      2020-12-18   \n",
      "2013  com.vivaldi.browser                      2020-12-18   \n",
      "2047  com.vivaldi.browser                      2020-12-18   \n",
      "2052  com.vivaldi.browser                      2020-12-18   \n",
      "2137  com.vivaldi.browser                      2020-12-18   \n",
      "2177  com.vivaldi.browser                      2020-12-18   \n",
      "2216  com.vivaldi.browser                      2020-12-18   \n",
      "2254  com.vivaldi.browser                      2020-12-18   \n",
      "2259  com.vivaldi.browser                      2020-12-18   \n",
      "2295  com.vivaldi.browser                      2020-12-18   \n",
      "2828  com.vivaldi.browser                      2020-12-18   \n",
      "\n",
      "0                                     Short Description  \\\n",
      "104   Fast &amp; private web browser with ad blocker...   \n",
      "133   Fast &amp; private web browser with ad blocker...   \n",
      "1114  Fast &amp; private web browser with ad blocker...   \n",
      "1761  Fast &amp; private web browser with ad blocker...   \n",
      "1929  Fast &amp; private web browser with ad blocker...   \n",
      "1971  Fast &amp; private web browser with ad blocker...   \n",
      "2013  Fast &amp; private web browser with ad blocker...   \n",
      "2047  Fast &amp; private web browser with ad blocker...   \n",
      "2052  Fast &amp; private web browser with ad blocker...   \n",
      "2137  Fast &amp; private web browser with ad blocker...   \n",
      "2177  Fast &amp; private web browser with ad blocker...   \n",
      "2216  Fast &amp; private web browser with ad blocker...   \n",
      "2254  Fast &amp; private web browser with ad blocker...   \n",
      "2259  Fast &amp; private web browser with ad blocker...   \n",
      "2295  Fast &amp; private web browser with ad blocker...   \n",
      "2828  Fast &amp; private web browser with ad blocker...   \n",
      "\n",
      "0                                      Long Description  sd_length  ld_length  \n",
      "104   Vivaldi is a new private web browser with an i...         78       3172  \n",
      "133   Vivaldi is a new private web browser with an i...         78       3172  \n",
      "1114  Vivaldi is a new private web browser with an i...         78       3172  \n",
      "1761  Vivaldi is a new private web browser with an i...         78       3172  \n",
      "1929  Vivaldi is a new private web browser with an i...         78       3172  \n",
      "1971  Vivaldi is a new private web browser with an i...         78       3172  \n",
      "2013  Vivaldi is a new private web browser with an i...         78       3172  \n",
      "2047  Vivaldi is a new private web browser with an i...         78       3172  \n",
      "2052  Vivaldi is a new private web browser with an i...         78       3172  \n",
      "2137  Vivaldi is a new private web browser with an i...         78       3172  \n",
      "2177  Vivaldi is a new private web browser with an i...         78       3172  \n",
      "2216  Vivaldi is a new private web browser with an i...         78       3172  \n",
      "2254  Vivaldi is a new private web browser with an i...         78       3172  \n",
      "2259  Vivaldi is a new private web browser with an i...         78       3172  \n",
      "2295  Vivaldi is a new private web browser with an i...         78       3172  \n",
      "2828  Vivaldi is a new private web browser with an i...         78       3172  \n"
     ]
    }
   ],
   "source": [
    "print(df[df['Rank'].isnull()])"
   ]
  },
  {
   "cell_type": "code",
   "execution_count": 51,
   "metadata": {},
   "outputs": [],
   "source": [
    "df['Rank'] = pd.to_numeric(df['Rank'], errors='coerce')"
   ]
  },
  {
   "cell_type": "code",
   "execution_count": 52,
   "metadata": {},
   "outputs": [],
   "source": [
    "df = df.dropna(subset=['Rank'])"
   ]
  },
  {
   "cell_type": "code",
   "execution_count": 53,
   "metadata": {},
   "outputs": [],
   "source": [
    "df['Rank'] = df['Rank'].astype('int')"
   ]
  },
  {
   "cell_type": "code",
   "execution_count": 25,
   "metadata": {},
   "outputs": [
    {
     "data": {
      "text/plain": [
       "0\n",
       "Rank         1.000000\n",
       "sd_length    0.208939\n",
       "ld_length    0.362805\n",
       "Name: Rank, dtype: float64"
      ]
     },
     "execution_count": 25,
     "metadata": {},
     "output_type": "execute_result"
    }
   ],
   "source": [
    "df.corr()['Rank']"
   ]
  },
  {
   "cell_type": "markdown",
   "metadata": {},
   "source": [
    "**Both short description and long description have positive correlation with with ranking, where long description is slightly more correlated than short description.**"
   ]
  },
  {
   "cell_type": "code",
   "execution_count": 26,
   "metadata": {},
   "outputs": [],
   "source": [
    "# converts category from a string representation into an integer representation\n",
    "\n",
    "df['ld_category'] = df['Long Description'].astype('category').cat.codes\n",
    "df['sd_category'] = df['Short Description'].astype('category').cat.codes"
   ]
  },
  {
   "cell_type": "code",
   "execution_count": 27,
   "metadata": {},
   "outputs": [
    {
     "data": {
      "text/plain": [
       "0\n",
       "Rank           1.000000\n",
       "sd_length      0.208939\n",
       "ld_length      0.362805\n",
       "ld_category    0.339430\n",
       "sd_category   -0.222662\n",
       "Name: Rank, dtype: float64"
      ]
     },
     "execution_count": 27,
     "metadata": {},
     "output_type": "execute_result"
    }
   ],
   "source": [
    "df.corr()['Rank']"
   ]
  },
  {
   "cell_type": "markdown",
   "metadata": {},
   "source": [
    "**Short description has negative correlation with Rank but long desription is positively correlated.**"
   ]
  },
  {
   "cell_type": "code",
   "execution_count": 63,
   "metadata": {},
   "outputs": [],
   "source": [
    "df['App_ID_category'] = df['App ID'].astype('category').cat.codes"
   ]
  },
  {
   "cell_type": "code",
   "execution_count": 64,
   "metadata": {},
   "outputs": [
    {
     "data": {
      "text/plain": [
       "0\n",
       "Rank               1.000000\n",
       "App_ID_category    0.528693\n",
       "Name: Rank, dtype: float64"
      ]
     },
     "execution_count": 64,
     "metadata": {},
     "output_type": "execute_result"
    }
   ],
   "source": [
    "df.corr()['Rank']"
   ]
  },
  {
   "cell_type": "markdown",
   "metadata": {},
   "source": [
    "**Highly positive correlation of browser ranking with App ID.**"
   ]
  },
  {
   "cell_type": "code",
   "execution_count": 73,
   "metadata": {},
   "outputs": [
    {
     "data": {
      "text/plain": [
       "<function matplotlib.pyplot.show(close=None, block=None)>"
      ]
     },
     "execution_count": 73,
     "metadata": {},
     "output_type": "execute_result"
    },
    {
     "data": {
      "image/png": "[encoded data removed]",
      "text/plain": [
       "<Figure size 1080x504 with 1 Axes>"
      ]
     },
     "metadata": {
      "needs_background": "light"
     },
     "output_type": "display_data"
    }
   ],
   "source": [
    "plt.figure(figsize=(15,7))\n",
    "sns.boxplot(x = 'Keyword', y = 'Rank', data = df)\n",
    "plt.xticks(rotation = 'vertical')\n",
    "plt.show"
   ]
  }
 ],
 "metadata": {
  "kernelspec": {
   "display_name": "Python 3",
   "language": "python",
   "name": "python3"
  },
  "language_info": {
   "codemirror_mode": {
    "name": "ipython",
    "version": 3
   },
   "file_extension": ".py",
   "mimetype": "text/x-python",
   "name": "python",
   "nbconvert_exporter": "python",
   "pygments_lexer": "ipython3",
   "version": "3.8.5"
  }
 },
 "nbformat": 4,
 "nbformat_minor": 4
}
